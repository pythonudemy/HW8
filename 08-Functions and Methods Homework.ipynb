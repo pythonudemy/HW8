{
 "cells": [
  {
   "cell_type": "markdown",
   "metadata": {},
   "source": [
    "# Functions and Methods Homework \n",
    "\n",
    "Complete the following questions:\n",
    "____\n",
    "**Write a function that computes the volume of a sphere given its radius.**\n",
    "<p>The volume of a sphere is given as $$\\frac{4}{3} π r^3$$</p>"
   ]
  },
  {
   "cell_type": "code",
   "execution_count": 11,
   "metadata": {},
   "outputs": [],
   "source": [
    "#For more accuracy, I will\n",
    "#import pi from the math\n",
    "#module.\n",
    "import math\n",
    "def vol(rad):\n",
    "    return (4/3)*(math.pi)*(rad**3)"
   ]
  },
  {
   "cell_type": "code",
   "execution_count": 13,
   "metadata": {},
   "outputs": [
    {
     "data": {
      "text/plain": [
       "4.1887902047863905"
      ]
     },
     "execution_count": 13,
     "metadata": {},
     "output_type": "execute_result"
    }
   ],
   "source": [
    "# Check\n",
    "vol(1)"
   ]
  },
  {
   "cell_type": "markdown",
   "metadata": {},
   "source": [
    "___\n",
    "**Write a function that checks whether a number is in a given range (inclusive of high and low)**"
   ]
  },
  {
   "cell_type": "code",
   "execution_count": 31,
   "metadata": {},
   "outputs": [],
   "source": [
    "def ran_check(num,low,high):\n",
    "    #check to see 'if' num is in \n",
    "    #range of low and high. Then\n",
    "    #print out a statement saying\n",
    "    #whether it is or is not.\n",
    "    #Note: num can only be an integer.\n",
    "    if num in range(low,high+1):\n",
    "        print('{} is in the range of {} and {}'.format(num,low,high))\n",
    "    else:\n",
    "        print('{} is not in the range of {} and {}'.format(num,low,high))"
   ]
  },
  {
   "cell_type": "code",
   "execution_count": 32,
   "metadata": {},
   "outputs": [
    {
     "name": "stdout",
     "output_type": "stream",
     "text": [
      "10 is in the range of 2 and 100\n"
     ]
    }
   ],
   "source": [
    "# Check\n",
    "ran_check(10,2,100)"
   ]
  },
  {
   "cell_type": "markdown",
   "metadata": {},
   "source": [
    "If you only wanted to return a boolean:"
   ]
  },
  {
   "cell_type": "code",
   "execution_count": 33,
   "metadata": {},
   "outputs": [],
   "source": [
    "def ran_bool(num,low,high):\n",
    "    #use a boolean to see if num\n",
    "    #is in the given range (so, True)\n",
    "    #or not in a given range (so, False).\n",
    "    #Note: num can only be an integer.\n",
    "    if num in range(low,high+1):\n",
    "        return True\n",
    "    else:\n",
    "        return False"
   ]
  },
  {
   "cell_type": "code",
   "execution_count": 34,
   "metadata": {},
   "outputs": [
    {
     "data": {
      "text/plain": [
       "True"
      ]
     },
     "execution_count": 34,
     "metadata": {},
     "output_type": "execute_result"
    }
   ],
   "source": [
    "ran_bool(6,1,10)"
   ]
  },
  {
   "cell_type": "markdown",
   "metadata": {},
   "source": [
    "____\n",
    "**Write a Python function that accepts a string and calculates the number of upper case letters and lower case letters.**\n",
    "\n",
    "    Sample String : 'Hello Mr. Rogers, how are you this fine Tuesday?'\n",
    "    Expected Output : \n",
    "    No. of Upper case characters : 4\n",
    "    No. of Lower case Characters : 33\n",
    "\n",
    "HINT: Two string methods that might prove useful: **.isupper()** and **.islower()**\n",
    "\n",
    "If you feel ambitious, explore the Collections module to solve this problem!"
   ]
  },
  {
   "cell_type": "code",
   "execution_count": 46,
   "metadata": {},
   "outputs": [],
   "source": [
    "def up_low(s):\n",
    "    #First create a dictionary that \n",
    "    #can be used as a counter for each\n",
    "    #upper case key and lower case key.\n",
    "    d = {\"upper\":0,\"lower\":0}\n",
    "    \n",
    "    #Iterate through the string\n",
    "    #and increase the value of the \n",
    "    #upper or lower case key.\n",
    "    for k in s:\n",
    "        #Check to see if uppercase.\n",
    "        if k.isupper():\n",
    "            #increase value by one.\n",
    "            d[\"upper\"]+=1\n",
    "        #If not upper case check\n",
    "        #to see if lowercase.\n",
    "        elif k.islower():\n",
    "            #increase value by one.\n",
    "            d[\"lower\"]+=1\n",
    "        #Pass if blank space or not a letter.\n",
    "        else:\n",
    "            pass\n",
    "        \n",
    "    #In \"for loop\" print the string\n",
    "    print(\"Original String : \", s)\n",
    "    #And, print the number of \"upper\" keys.\n",
    "    print(\"No. of Upper case characters : \", d[\"upper\"])\n",
    "    #And, print the number of \"lower\" keys.\n",
    "    print(\"No. of Lower case characters : \", d[\"lower\"])"
   ]
  },
  {
   "cell_type": "code",
   "execution_count": 47,
   "metadata": {},
   "outputs": [
    {
     "name": "stdout",
     "output_type": "stream",
     "text": [
      "Original String :  Hi, how was your Cinco de Mayo?\n",
      "No. of Upper case characters :  3\n",
      "No. of Lower case characters :  20\n"
     ]
    }
   ],
   "source": [
    "s = 'Hi, how was your Cinco de Mayo?'\n",
    "up_low(s)"
   ]
  },
  {
   "cell_type": "markdown",
   "metadata": {},
   "source": [
    "____\n",
    "**Write a Python function that takes a list and returns a new list with unique elements of the first list.**\n",
    "\n",
    "    Sample List : [1,1,1,1,2,2,3,3,3,3,4,5]\n",
    "    Unique List : [1, 2, 3, 4, 5]"
   ]
  },
  {
   "cell_type": "code",
   "execution_count": 2,
   "metadata": {},
   "outputs": [],
   "source": [
    "def unique_list(lst):\n",
    "    #Create an empty list that\n",
    "    #unique elements can be\n",
    "    #appended to.\n",
    "    x = []\n",
    "    \n",
    "    #iterate through \"lst\" to \n",
    "    #find unique elements.\n",
    "    for e in lst:\n",
    "        #If the element in \"lst\" \n",
    "        #is not in the empty list,\n",
    "        #then append it to the\n",
    "        #empty list \"x\".\n",
    "        if e not in x:\n",
    "            x.append(e)\n",
    "            \n",
    "    #print the list of unique elements\n",
    "    print(x)"
   ]
  },
  {
   "cell_type": "code",
   "execution_count": 4,
   "metadata": {},
   "outputs": [
    {
     "name": "stdout",
     "output_type": "stream",
     "text": [
      "[1, 2, 3, 4, 5, 7]\n"
     ]
    }
   ],
   "source": [
    "unique_list([1,1,1,1,2,2,3,3,3,3,4,5,7,7])"
   ]
  },
  {
   "cell_type": "markdown",
   "metadata": {},
   "source": [
    "____\n",
    "**Write a Python function to multiply all the numbers in a list.**\n",
    "\n",
    "    Sample List : [1, 2, 3, -4]\n",
    "    Expected Output : -24"
   ]
  },
  {
   "cell_type": "code",
   "execution_count": 9,
   "metadata": {},
   "outputs": [],
   "source": [
    "#Note, this exercise would probably\n",
    "#work for factorials!\n",
    "\n",
    "def multiply(numbers):  \n",
    "    #Set a \"total\" variable equal to one\n",
    "    #because anything multiplied\n",
    "    #by one will be that number.\n",
    "    #A loop will be used to change \n",
    "    #the total each time it's multiplied\n",
    "    #by the next number.\n",
    "    total = 1\n",
    "    #Now iterate through all the numbers\n",
    "    #in the list.\n",
    "    for n in numbers:\n",
    "        total *= n\n",
    "    print(total) \n",
    "    "
   ]
  },
  {
   "cell_type": "code",
   "execution_count": 10,
   "metadata": {},
   "outputs": [
    {
     "name": "stdout",
     "output_type": "stream",
     "text": [
      "120\n"
     ]
    }
   ],
   "source": [
    "multiply([1,2,3,4,5])"
   ]
  },
  {
   "cell_type": "markdown",
   "metadata": {},
   "source": [
    "____\n",
    "**Write a Python function that checks whether a passed in string is palindrome or not.**\n",
    "\n",
    "Note: A palindrome is word, phrase, or sequence that reads the same backward as forward, e.g., madam or nurses run."
   ]
  },
  {
   "cell_type": "code",
   "execution_count": 18,
   "metadata": {},
   "outputs": [],
   "source": [
    "def palindrome(s):\n",
    "    #First, for phrases you need to remove 'spaces'.\n",
    "    #' ' = one blank space and '' = no blank space.\n",
    "    #So, for example, the prase \"nurses run\" becomes\n",
    "    #\"nursesrun\".\n",
    "    s = s.replace(' ','')\n",
    "    #Now return a boolean of True or False\n",
    "    #if 's' is a palindrom.  To reverse 's'\n",
    "    #use [::-1].\n",
    "    return s == s[::-1]\n",
    "    "
   ]
  },
  {
   "cell_type": "code",
   "execution_count": 19,
   "metadata": {},
   "outputs": [
    {
     "data": {
      "text/plain": [
       "True"
      ]
     },
     "execution_count": 19,
     "metadata": {},
     "output_type": "execute_result"
    }
   ],
   "source": [
    "palindrome('helleh')"
   ]
  },
  {
   "cell_type": "code",
   "execution_count": 20,
   "metadata": {},
   "outputs": [
    {
     "data": {
      "text/plain": [
       "False"
      ]
     },
     "execution_count": 20,
     "metadata": {},
     "output_type": "execute_result"
    }
   ],
   "source": [
    "palindrome('hello')"
   ]
  },
  {
   "cell_type": "markdown",
   "metadata": {},
   "source": [
    "____\n",
    "#### Hard:\n",
    "\n",
    "**Write a Python function to check whether a string is pangram or not.**\n",
    "\n",
    "    Note : Pangrams are words or sentences containing every letter of the alphabet at least once.\n",
    "    For example : \"The quick brown fox jumps over the lazy dog\"\n",
    "\n",
    "Hint: Look at the string module"
   ]
  },
  {
   "cell_type": "code",
   "execution_count": 23,
   "metadata": {},
   "outputs": [],
   "source": [
    "import string\n",
    "#Since we are using the string module\n",
    "#we can now use any string methods.\n",
    "#Note, computers can only understand numbers\n",
    "#so 'ascii' converts characters to numbers.\n",
    "\n",
    "\n",
    "#Define a function that takes on a string and\n",
    "#the variable 'alphabet' that is set equal to all\n",
    "#the letters in the alphabet in lower case.\n",
    "#Hence, 'string.ascii_lowercase' which comes\n",
    "#from the string module. Or, one can use:\n",
    "#alphabet = \"abcdefghijklmnopqrstuvwxyz\".\n",
    "def ispangram(str1, alphabet=string.ascii_lowercase):\n",
    "    #Create a 'set' by using set() to all the letters\n",
    "    #in the alphabet.\n",
    "    alphaset = set(alphabet)\n",
    "    #Which means alphaset = {'a','b','c',...,'z'}.\n",
    "    \n",
    "    #Now perform a boolean test to compare if every\n",
    "    #element in the set 'alphaset' is used in the given\n",
    "    #string, once the given string is converted to a \"set\" of \n",
    "    #lower case characters.  From the Python Documentation the set \n",
    "    #operation 's<=t' test whether every element in s is in t.\n",
    "    return alphaset <= set(str1.lower())"
   ]
  },
  {
   "cell_type": "code",
   "execution_count": 24,
   "metadata": {},
   "outputs": [
    {
     "data": {
      "text/plain": [
       "True"
      ]
     },
     "execution_count": 24,
     "metadata": {},
     "output_type": "execute_result"
    }
   ],
   "source": [
    "ispangram(\"The quick brown fox jumps over the lazy dog\")"
   ]
  },
  {
   "cell_type": "code",
   "execution_count": 25,
   "metadata": {},
   "outputs": [
    {
     "data": {
      "text/plain": [
       "'abcdefghijklmnopqrstuvwxyz'"
      ]
     },
     "execution_count": 25,
     "metadata": {},
     "output_type": "execute_result"
    }
   ],
   "source": [
    "string.ascii_lowercase"
   ]
  },
  {
   "cell_type": "markdown",
   "metadata": {
    "collapsed": true
   },
   "source": [
    "#### Great Job!"
   ]
  }
 ],
 "metadata": {
  "kernelspec": {
   "display_name": "Python 3",
   "language": "python",
   "name": "python3"
  },
  "language_info": {
   "codemirror_mode": {
    "name": "ipython",
    "version": 3
   },
   "file_extension": ".py",
   "mimetype": "text/x-python",
   "name": "python",
   "nbconvert_exporter": "python",
   "pygments_lexer": "ipython3",
   "version": "3.6.4"
  }
 },
 "nbformat": 4,
 "nbformat_minor": 1
}
